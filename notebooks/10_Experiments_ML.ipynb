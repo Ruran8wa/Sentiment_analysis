{
 "cells": [
  {
   "cell_type": "markdown",
   "id": "bbf6aca0",
   "metadata": {},
   "source": [
    "# Classic ML Experiments (TF-IDF + Logistic Regression / Linear SVM)\n",
    "\n",
    "**Objective.**\n",
    "\n",
    "Convert cleaned text into TF-IDF features (word, char, union), train and tune LR and Linear SVM, select the best model by **validation Macro-F1**, and report **test** metrics with curves.\n",
    "\n",
    "**Outputs**\n",
    "- Vectorizers: `data/interim/tfidf_word.joblib`, `tfidf_char.joblib` (+ meta JSONs)\n",
    "- Results tables: `reports/tables/ml_lr_results.csv`, `ml_svm_results.csv`, `ml_winners.json`\n",
    "- Best models: `models/ml_lr_best.joblib`, `models/ml_svm_best_<feature>.joblib`\n",
    "- Plots: confusion matrix, PR, ROC under `reports/figures/`\n"
   ]
  },
  {
   "cell_type": "markdown",
   "id": "c1ef54ec",
   "metadata": {},
   "source": [
    "## 1) Imports & Project Bootstrap\n",
    "\n"
   ]
  },
  {
   "cell_type": "code",
   "execution_count": 2,
   "id": "50450235",
   "metadata": {},
   "outputs": [],
   "source": [
    "from pathlib import Path\n",
    "\n",
    "import json\n",
    "import numpy as np\n",
    "import pandas as pd\n",
    "\n",
    "import sys\n",
    "ROOT = Path.cwd().parent if Path.cwd().name == \"notebooks\" else Path.cwd()\n",
    "if str(ROOT) not in sys.path:\n",
    "    sys.path.insert(0, str(ROOT))\n",
    "\n",
    "from src.config import SEED, DATA_PROCESSED, DATA_INTERIM, MODELS_DIR, REPORTS_TAB\n",
    "from src.vectorize import make_word_tfidf, make_char_tfidf, make_union\n",
    "from src.metrics import compute_metrics\n",
    "from src.train_eval_ml import (\n",
    "    run_lr_grid, run_svm_grids,\n",
    "    plot_confmat, plot_pr, plot_roc\n",
    ")\n",
    "\n"
   ]
  },
  {
   "cell_type": "markdown",
   "id": "efdb2c8f",
   "metadata": {},
   "source": [
    "## 2) Experiment Parameters\n",
    "\n",
    "We define the hyper-parameter grids up front for traceability.\n",
    "\n",
    "- **Word TF-IDF:** `ngram_range=(1,2)`, `max_features=200k`, `min_df=5`, `max_df=0.95`, `sublinear_tf=True`\n",
    "- **Char TF-IDF:** `ngram_range=(3,5)`, `max_features=100k`, `min_df=2`, `sublinear_tf=True`\n",
    "- **Logistic Regression (word features):** `C ∈ {0.25, 0.5, 1, 2, 4, 8}`, `solver=saga`, `penalty=l2`, `max_iter=500`\n",
    "- **Linear SVM (word/char/union):** `C ∈ {0.25, 0.5, 1, 2, 4, 8}`, `loss=squared_hinge`, `dual=False`, `max_iter=5000`\n",
    "- **Model selection metric:** **Macro-F1 on validation**\n",
    "  \n",
    "Declaring grids explicitly avoids “silent” tuning changes and aligns with the rubric’s requirement to justify model/parameter choices.\n"
   ]
  },
  {
   "cell_type": "code",
   "execution_count": 3,
   "id": "c282ad19",
   "metadata": {},
   "outputs": [
    {
     "data": {
      "text/plain": [
       "({'ngram_range': (1, 2),\n",
       "  'max_features': 200000,\n",
       "  'min_df': 5,\n",
       "  'max_df': 0.95,\n",
       "  'sublinear_tf': True,\n",
       "  'name': 'tfidf_word'},\n",
       " {'ngram_range': (3, 5),\n",
       "  'max_features': 100000,\n",
       "  'min_df': 2,\n",
       "  'max_df': 1.0,\n",
       "  'sublinear_tf': True,\n",
       "  'name': 'tfidf_char'},\n",
       " [0.25, 0.5, 1, 2, 4, 8])"
      ]
     },
     "execution_count": 3,
     "metadata": {},
     "output_type": "execute_result"
    }
   ],
   "source": [
    "C_GRID = [0.25, 0.5, 1, 2, 4, 8]\n",
    "\n",
    "WORD_CFG = dict(ngram_range=(1, 2), max_features=200_000, min_df=5, max_df=0.95, sublinear_tf=True, name=\"tfidf_word\")\n",
    "CHAR_CFG = dict(ngram_range=(3, 5), max_features=100_000, min_df=2,  max_df=1.0,  sublinear_tf=True, name=\"tfidf_char\")\n",
    "WORD_CFG, CHAR_CFG, C_GRID\n"
   ]
  },
  {
   "cell_type": "markdown",
   "id": "981ba9e5",
   "metadata": {},
   "source": [
    "## 3) Load cleaned train/val/test\n",
    "\n",
    "Use the **exact splits** from earlier notebooks to prevent leakage and keep all experiments comparable.\n",
    "\n",
    "Reproducible partitions guarantee fair comparisons across ML and DL tracks.\n"
   ]
  },
  {
   "cell_type": "code",
   "execution_count": 4,
   "id": "e3937045",
   "metadata": {},
   "outputs": [
    {
     "name": "stdout",
     "output_type": "stream",
     "text": [
      "Loaded: {'train': (39665, 3), 'val': (4958, 3), 'test': (4959, 3)}\n"
     ]
    },
    {
     "data": {
      "text/plain": [
       "(39665, 4958, 4959)"
      ]
     },
     "execution_count": 4,
     "metadata": {},
     "output_type": "execute_result"
    }
   ],
   "source": [
    "train = pd.read_csv(DATA_PROCESSED / \"cleaned_train.csv\")\n",
    "val   = pd.read_csv(DATA_PROCESSED / \"cleaned_val.csv\")\n",
    "test  = pd.read_csv(DATA_PROCESSED / \"cleaned_test.csv\")\n",
    "\n",
    "Xtr_text, ytr = train[\"text\"].tolist(), train[\"label\"].to_numpy()\n",
    "Xva_text, yva = val[\"text\"].tolist(),   val[\"label\"].to_numpy()\n",
    "Xte_text, yte = test[\"text\"].tolist(),  test[\"label\"].to_numpy()\n",
    "\n",
    "print(\"Loaded:\", { \"train\": train.shape, \"val\": val.shape, \"test\": test.shape })\n",
    "len(Xtr_text), len(Xva_text), len(Xte_text)"
   ]
  },
  {
   "cell_type": "markdown",
   "id": "ebd30ef4",
   "metadata": {},
   "source": [
    "## 4) Build TF-IDF features (word, char, union)\n",
    "\n",
    "- **Fit on train only**, then transform val/test.\n",
    "- Persist vectorizers and metadata (vocab size, params) for reproducibility.\n",
    "- Create a **union** feature space by horizontally stacking word + char.\n",
    "\n",
    "Word bigrams capture phrases; char 3–5-grams capture morphology/spelling/emphasis. The union often boosts linear models on text.\n"
   ]
  },
  {
   "cell_type": "code",
   "execution_count": 5,
   "id": "92150279",
   "metadata": {},
   "outputs": [
    {
     "data": {
      "text/plain": [
       "((39665, 144145), (39665, 100000), (39665, 244145))"
      ]
     },
     "execution_count": 5,
     "metadata": {},
     "output_type": "execute_result"
    }
   ],
   "source": [
    "# Word-level TF-IDF\n",
    "vw, Xw_tr, Xw_va, Xw_te = make_word_tfidf(\n",
    "    Xtr_text, Xva_text, Xte_text, **WORD_CFG\n",
    ")\n",
    "\n",
    "# Char-level TF-IDF\n",
    "vc, Xc_tr, Xc_va, Xc_te = make_char_tfidf(\n",
    "    Xtr_text, Xva_text, Xte_text, **CHAR_CFG\n",
    ")\n",
    "\n",
    "# Union (word + char)\n",
    "Xu_tr, Xu_va, Xu_te = make_union(Xw_tr, Xw_va, Xw_te, Xc_tr, Xc_va, Xc_te)\n",
    "\n",
    "Xw_tr.shape, Xc_tr.shape, Xu_tr.shape\n"
   ]
  },
  {
   "cell_type": "markdown",
   "id": "f1401724",
   "metadata": {},
   "source": [
    "## 5) Logistic Regression grid (word features only)\n",
    "\n",
    "Train LR across 6 values of `C`.  \n",
    "Select by **validation Macro-F1**, then evaluate the best on **test** and persist the model.\n",
    "\n",
    "LR is a robust, well-calibrated baseline on sparse TF-IDF; it sets a strong lower-bound for performance.\n"
   ]
  },
  {
   "cell_type": "code",
   "execution_count": 6,
   "id": "9fdec6ce",
   "metadata": {},
   "outputs": [
    {
     "data": {
      "text/html": [
       "<div>\n",
       "<style scoped>\n",
       "    .dataframe tbody tr th:only-of-type {\n",
       "        vertical-align: middle;\n",
       "    }\n",
       "\n",
       "    .dataframe tbody tr th {\n",
       "        vertical-align: top;\n",
       "    }\n",
       "\n",
       "    .dataframe thead th {\n",
       "        text-align: right;\n",
       "    }\n",
       "</style>\n",
       "<table border=\"1\" class=\"dataframe\">\n",
       "  <thead>\n",
       "    <tr style=\"text-align: right;\">\n",
       "      <th></th>\n",
       "      <th>accuracy</th>\n",
       "      <th>precision_macro</th>\n",
       "      <th>recall_macro</th>\n",
       "      <th>f1_macro</th>\n",
       "      <th>roc_auc</th>\n",
       "      <th>pr_auc</th>\n",
       "      <th>C</th>\n",
       "      <th>features</th>\n",
       "    </tr>\n",
       "  </thead>\n",
       "  <tbody>\n",
       "    <tr>\n",
       "      <th>4</th>\n",
       "      <td>0.908431</td>\n",
       "      <td>0.908619</td>\n",
       "      <td>0.908393</td>\n",
       "      <td>0.908414</td>\n",
       "      <td>0.967333</td>\n",
       "      <td>0.966715</td>\n",
       "      <td>4.00</td>\n",
       "      <td>word</td>\n",
       "    </tr>\n",
       "    <tr>\n",
       "      <th>5</th>\n",
       "      <td>0.906212</td>\n",
       "      <td>0.906421</td>\n",
       "      <td>0.906172</td>\n",
       "      <td>0.906193</td>\n",
       "      <td>0.967846</td>\n",
       "      <td>0.967094</td>\n",
       "      <td>8.00</td>\n",
       "      <td>word</td>\n",
       "    </tr>\n",
       "    <tr>\n",
       "      <th>3</th>\n",
       "      <td>0.903590</td>\n",
       "      <td>0.903820</td>\n",
       "      <td>0.903548</td>\n",
       "      <td>0.903569</td>\n",
       "      <td>0.965881</td>\n",
       "      <td>0.965516</td>\n",
       "      <td>2.00</td>\n",
       "      <td>word</td>\n",
       "    </tr>\n",
       "    <tr>\n",
       "      <th>2</th>\n",
       "      <td>0.896934</td>\n",
       "      <td>0.897167</td>\n",
       "      <td>0.896891</td>\n",
       "      <td>0.896911</td>\n",
       "      <td>0.963198</td>\n",
       "      <td>0.963059</td>\n",
       "      <td>1.00</td>\n",
       "      <td>word</td>\n",
       "    </tr>\n",
       "    <tr>\n",
       "      <th>1</th>\n",
       "      <td>0.891085</td>\n",
       "      <td>0.891483</td>\n",
       "      <td>0.891028</td>\n",
       "      <td>0.891046</td>\n",
       "      <td>0.959285</td>\n",
       "      <td>0.959353</td>\n",
       "      <td>0.50</td>\n",
       "      <td>word</td>\n",
       "    </tr>\n",
       "    <tr>\n",
       "      <th>0</th>\n",
       "      <td>0.885438</td>\n",
       "      <td>0.886212</td>\n",
       "      <td>0.885357</td>\n",
       "      <td>0.885364</td>\n",
       "      <td>0.954252</td>\n",
       "      <td>0.954505</td>\n",
       "      <td>0.25</td>\n",
       "      <td>word</td>\n",
       "    </tr>\n",
       "  </tbody>\n",
       "</table>\n",
       "</div>"
      ],
      "text/plain": [
       "   accuracy  precision_macro  recall_macro  f1_macro   roc_auc    pr_auc  \\\n",
       "4  0.908431         0.908619      0.908393  0.908414  0.967333  0.966715   \n",
       "5  0.906212         0.906421      0.906172  0.906193  0.967846  0.967094   \n",
       "3  0.903590         0.903820      0.903548  0.903569  0.965881  0.965516   \n",
       "2  0.896934         0.897167      0.896891  0.896911  0.963198  0.963059   \n",
       "1  0.891085         0.891483      0.891028  0.891046  0.959285  0.959353   \n",
       "0  0.885438         0.886212      0.885357  0.885364  0.954252  0.954505   \n",
       "\n",
       "      C features  \n",
       "4  4.00     word  \n",
       "5  8.00     word  \n",
       "3  2.00     word  \n",
       "2  1.00     word  \n",
       "1  0.50     word  \n",
       "0  0.25     word  "
      ]
     },
     "metadata": {},
     "output_type": "display_data"
    },
    {
     "name": "stdout",
     "output_type": "stream",
     "text": [
      "Best LR (val): {'C': 4, 'accuracy': 0.9084308188785801, 'precision_macro': 0.9086190727389953, 'recall_macro': 0.9083929989455459, 'f1_macro': 0.9084135908409197, 'roc_auc': 0.9673330773136156, 'pr_auc': 0.9667149740842683, 'features': 'word'}\n",
      "Best LR (test): {'accuracy': 0.9019963702359347, 'precision_macro': 0.9021549788114906, 'recall_macro': 0.9019593905491856, 'f1_macro': 0.9019795297244253, 'roc_auc': 0.9661155236888462, 'pr_auc': 0.9646793153989737}\n"
     ]
    }
   ],
   "source": [
    "lr_df, lr_best, lr_test, yte_pred_lr, yte_score_lr = run_lr_grid(\n",
    "    Xw_tr, ytr, Xw_va, yva, Xw_te, yte,\n",
    "    C_grid=C_GRID, feature_name=\"word\"\n",
    ")\n",
    "\n",
    "display(lr_df.sort_values(\"f1_macro\", ascending=False).head(10))\n",
    "print(\"Best LR (val):\", lr_best)\n",
    "print(\"Best LR (test):\", lr_test)"
   ]
  },
  {
   "cell_type": "markdown",
   "id": "270c4645",
   "metadata": {},
   "source": [
    "**Findings**\n",
    "- **Best val config:** `C = 4` with **F1_macro = 0.9084**, **ROC-AUC = 0.9673**, **PR-AUC = 0.9667**.\n",
    "- **Test performance (best LR):** **F1_macro = 0.9020**, **Accuracy = 0.9020**, **ROC-AUC = 0.9661**, **PR-AUC = 0.9647**.\n",
    "- As `C` increases from 0.25 → 4, F1 rises (less regularization helps); at `C=8` it plateaus/slightly dips → mild overfitting.\n",
    "**Takeaway.** A single word-bigram TF-IDF with LR already delivers a strong baseline around **90.2% F1/Acc**.\n"
   ]
  },
  {
   "cell_type": "markdown",
   "id": "42226e38",
   "metadata": {},
   "source": [
    "## 6) LR — Test-set plots (Confusion Matrix, PR, ROC)\n",
    "\n",
    "Visualize the best LR’s behavior on held-out test data.\n",
    "\n",
    "Curves complement scalar metrics: PR reflects class trade-offs; ROC shows separability; CM reveals dominant error modes.\n"
   ]
  },
  {
   "cell_type": "code",
   "execution_count": 7,
   "id": "7d1e0fe5",
   "metadata": {},
   "outputs": [
    {
     "data": {
      "image/png": "[encoded data removed]",
      "text/plain": [
       "<Figure size 420x360 with 1 Axes>"
      ]
     },
     "metadata": {},
     "output_type": "display_data"
    },
    {
     "data": {
      "image/png": "[encoded data removed]",
      "text/plain": [
       "<Figure size 520x360 with 1 Axes>"
      ]
     },
     "metadata": {},
     "output_type": "display_data"
    },
    {
     "data": {
      "image/png": "[encoded data removed]",
      "text/plain": [
       "<Figure size 520x360 with 1 Axes>"
      ]
     },
     "metadata": {},
     "output_type": "display_data"
    }
   ],
   "source": [
    "plot_confmat(yte, yte_pred_lr, \"LR (word TF-IDF) — Confusion Matrix\", \"ml_lr_cm\")\n",
    "plot_pr(yte, yte_score_lr, \"LR (word TF-IDF) — PR\", \"ml_lr_pr\")\n",
    "plot_roc(yte, yte_score_lr, \"LR (word TF-IDF) — ROC\", \"ml_lr_roc\")\n"
   ]
  },
  {
   "cell_type": "markdown",
   "id": "519b6214",
   "metadata": {},
   "source": [
    "**Interpretation**\n",
    "- **Confusion Matrix:** TN=2204, FP=266, FN=220, TP=2269. Errors are balanced across classes (no obvious skew).\n",
    "- **PR curve (AP=0.965):** High precision across most recall levels; long tail near full recall shows expected precision drop.\n",
    "- **ROC (AUC=0.966):** Strong separability; early steep ascent indicates many confidently separable reviews.\n"
   ]
  },
  {
   "cell_type": "markdown",
   "id": "da34b29a",
   "metadata": {},
   "source": [
    "## 7) Linear SVM grids (word, char, union)\n",
    "\n",
    "Run Linear SVM over the same `C` grid for each feature set.  \n",
    "We wrap the SVM with **probability calibration** to get PR/ROC curves.\n",
    "\n",
    "Linear SVM often outperforms LR on sparse high-dimensional text; calibration provides meaningful scores for downstream analysis.\n"
   ]
  },
  {
   "cell_type": "code",
   "execution_count": 8,
   "id": "18aec26d",
   "metadata": {},
   "outputs": [
    {
     "data": {
      "text/html": [
       "<div>\n",
       "<style scoped>\n",
       "    .dataframe tbody tr th:only-of-type {\n",
       "        vertical-align: middle;\n",
       "    }\n",
       "\n",
       "    .dataframe tbody tr th {\n",
       "        vertical-align: top;\n",
       "    }\n",
       "\n",
       "    .dataframe thead th {\n",
       "        text-align: right;\n",
       "    }\n",
       "</style>\n",
       "<table border=\"1\" class=\"dataframe\">\n",
       "  <thead>\n",
       "    <tr style=\"text-align: right;\">\n",
       "      <th></th>\n",
       "      <th>accuracy</th>\n",
       "      <th>precision_macro</th>\n",
       "      <th>recall_macro</th>\n",
       "      <th>f1_macro</th>\n",
       "      <th>roc_auc</th>\n",
       "      <th>pr_auc</th>\n",
       "      <th>C</th>\n",
       "      <th>features</th>\n",
       "    </tr>\n",
       "  </thead>\n",
       "  <tbody>\n",
       "    <tr>\n",
       "      <th>9</th>\n",
       "      <td>0.902783</td>\n",
       "      <td>0.902998</td>\n",
       "      <td>0.902743</td>\n",
       "      <td>0.902763</td>\n",
       "      <td>0.963757</td>\n",
       "      <td>0.962485</td>\n",
       "      <td>2.00</td>\n",
       "      <td>char</td>\n",
       "    </tr>\n",
       "    <tr>\n",
       "      <th>8</th>\n",
       "      <td>0.902178</td>\n",
       "      <td>0.902415</td>\n",
       "      <td>0.902135</td>\n",
       "      <td>0.902156</td>\n",
       "      <td>0.964615</td>\n",
       "      <td>0.963573</td>\n",
       "      <td>1.00</td>\n",
       "      <td>char</td>\n",
       "    </tr>\n",
       "    <tr>\n",
       "      <th>7</th>\n",
       "      <td>0.901977</td>\n",
       "      <td>0.902098</td>\n",
       "      <td>0.901946</td>\n",
       "      <td>0.901963</td>\n",
       "      <td>0.964689</td>\n",
       "      <td>0.963954</td>\n",
       "      <td>0.50</td>\n",
       "      <td>char</td>\n",
       "    </tr>\n",
       "    <tr>\n",
       "      <th>10</th>\n",
       "      <td>0.901170</td>\n",
       "      <td>0.901447</td>\n",
       "      <td>0.901123</td>\n",
       "      <td>0.901144</td>\n",
       "      <td>0.962644</td>\n",
       "      <td>0.961208</td>\n",
       "      <td>4.00</td>\n",
       "      <td>char</td>\n",
       "    </tr>\n",
       "    <tr>\n",
       "      <th>6</th>\n",
       "      <td>0.898346</td>\n",
       "      <td>0.898489</td>\n",
       "      <td>0.898313</td>\n",
       "      <td>0.898330</td>\n",
       "      <td>0.963558</td>\n",
       "      <td>0.963036</td>\n",
       "      <td>0.25</td>\n",
       "      <td>char</td>\n",
       "    </tr>\n",
       "    <tr>\n",
       "      <th>13</th>\n",
       "      <td>0.911053</td>\n",
       "      <td>0.911235</td>\n",
       "      <td>0.911016</td>\n",
       "      <td>0.911037</td>\n",
       "      <td>0.969173</td>\n",
       "      <td>0.968065</td>\n",
       "      <td>0.50</td>\n",
       "      <td>union</td>\n",
       "    </tr>\n",
       "    <tr>\n",
       "      <th>14</th>\n",
       "      <td>0.911053</td>\n",
       "      <td>0.911313</td>\n",
       "      <td>0.911008</td>\n",
       "      <td>0.911031</td>\n",
       "      <td>0.969147</td>\n",
       "      <td>0.967752</td>\n",
       "      <td>1.00</td>\n",
       "      <td>union</td>\n",
       "    </tr>\n",
       "    <tr>\n",
       "      <th>17</th>\n",
       "      <td>0.910649</td>\n",
       "      <td>0.910909</td>\n",
       "      <td>0.910605</td>\n",
       "      <td>0.910628</td>\n",
       "      <td>0.968443</td>\n",
       "      <td>0.966690</td>\n",
       "      <td>8.00</td>\n",
       "      <td>union</td>\n",
       "    </tr>\n",
       "    <tr>\n",
       "      <th>15</th>\n",
       "      <td>0.910649</td>\n",
       "      <td>0.910943</td>\n",
       "      <td>0.910602</td>\n",
       "      <td>0.910626</td>\n",
       "      <td>0.968856</td>\n",
       "      <td>0.967264</td>\n",
       "      <td>2.00</td>\n",
       "      <td>union</td>\n",
       "    </tr>\n",
       "    <tr>\n",
       "      <th>16</th>\n",
       "      <td>0.910246</td>\n",
       "      <td>0.910505</td>\n",
       "      <td>0.910202</td>\n",
       "      <td>0.910224</td>\n",
       "      <td>0.968609</td>\n",
       "      <td>0.966911</td>\n",
       "      <td>4.00</td>\n",
       "      <td>union</td>\n",
       "    </tr>\n",
       "    <tr>\n",
       "      <th>1</th>\n",
       "      <td>0.907826</td>\n",
       "      <td>0.907912</td>\n",
       "      <td>0.907800</td>\n",
       "      <td>0.907816</td>\n",
       "      <td>0.967534</td>\n",
       "      <td>0.966899</td>\n",
       "      <td>0.50</td>\n",
       "      <td>word</td>\n",
       "    </tr>\n",
       "    <tr>\n",
       "      <th>0</th>\n",
       "      <td>0.906414</td>\n",
       "      <td>0.906448</td>\n",
       "      <td>0.906398</td>\n",
       "      <td>0.906408</td>\n",
       "      <td>0.966011</td>\n",
       "      <td>0.965661</td>\n",
       "      <td>0.25</td>\n",
       "      <td>word</td>\n",
       "    </tr>\n",
       "    <tr>\n",
       "      <th>2</th>\n",
       "      <td>0.906414</td>\n",
       "      <td>0.906587</td>\n",
       "      <td>0.906377</td>\n",
       "      <td>0.906397</td>\n",
       "      <td>0.968114</td>\n",
       "      <td>0.967336</td>\n",
       "      <td>1.00</td>\n",
       "      <td>word</td>\n",
       "    </tr>\n",
       "    <tr>\n",
       "      <th>3</th>\n",
       "      <td>0.905607</td>\n",
       "      <td>0.905780</td>\n",
       "      <td>0.905571</td>\n",
       "      <td>0.905590</td>\n",
       "      <td>0.967978</td>\n",
       "      <td>0.967053</td>\n",
       "      <td>2.00</td>\n",
       "      <td>word</td>\n",
       "    </tr>\n",
       "    <tr>\n",
       "      <th>4</th>\n",
       "      <td>0.905204</td>\n",
       "      <td>0.905376</td>\n",
       "      <td>0.905167</td>\n",
       "      <td>0.905187</td>\n",
       "      <td>0.967658</td>\n",
       "      <td>0.966669</td>\n",
       "      <td>4.00</td>\n",
       "      <td>word</td>\n",
       "    </tr>\n",
       "  </tbody>\n",
       "</table>\n",
       "</div>"
      ],
      "text/plain": [
       "    accuracy  precision_macro  recall_macro  f1_macro   roc_auc    pr_auc  \\\n",
       "9   0.902783         0.902998      0.902743  0.902763  0.963757  0.962485   \n",
       "8   0.902178         0.902415      0.902135  0.902156  0.964615  0.963573   \n",
       "7   0.901977         0.902098      0.901946  0.901963  0.964689  0.963954   \n",
       "10  0.901170         0.901447      0.901123  0.901144  0.962644  0.961208   \n",
       "6   0.898346         0.898489      0.898313  0.898330  0.963558  0.963036   \n",
       "13  0.911053         0.911235      0.911016  0.911037  0.969173  0.968065   \n",
       "14  0.911053         0.911313      0.911008  0.911031  0.969147  0.967752   \n",
       "17  0.910649         0.910909      0.910605  0.910628  0.968443  0.966690   \n",
       "15  0.910649         0.910943      0.910602  0.910626  0.968856  0.967264   \n",
       "16  0.910246         0.910505      0.910202  0.910224  0.968609  0.966911   \n",
       "1   0.907826         0.907912      0.907800  0.907816  0.967534  0.966899   \n",
       "0   0.906414         0.906448      0.906398  0.906408  0.966011  0.965661   \n",
       "2   0.906414         0.906587      0.906377  0.906397  0.968114  0.967336   \n",
       "3   0.905607         0.905780      0.905571  0.905590  0.967978  0.967053   \n",
       "4   0.905204         0.905376      0.905167  0.905187  0.967658  0.966669   \n",
       "\n",
       "       C features  \n",
       "9   2.00     char  \n",
       "8   1.00     char  \n",
       "7   0.50     char  \n",
       "10  4.00     char  \n",
       "6   0.25     char  \n",
       "13  0.50    union  \n",
       "14  1.00    union  \n",
       "17  8.00    union  \n",
       "15  2.00    union  \n",
       "16  4.00    union  \n",
       "1   0.50     word  \n",
       "0   0.25     word  \n",
       "2   1.00     word  \n",
       "3   2.00     word  \n",
       "4   4.00     word  "
      ]
     },
     "metadata": {},
     "output_type": "display_data"
    },
    {
     "name": "stdout",
     "output_type": "stream",
     "text": [
      "Best SVM (val): {'features': 'union', 'C': 0.5, 'accuracy': 0.9110528438886648, 'precision_macro': 0.9112354827202589, 'recall_macro': 0.9110157907754795, 'f1_macro': 0.911036597832754, 'roc_auc': 0.9691728393454575, 'pr_auc': 0.96806547486629}\n",
      "Best SVM (test): {'accuracy': 0.9011897559991934, 'precision_macro': 0.9012237577374513, 'recall_macro': 0.9011728528602776, 'f1_macro': 0.901183644189383, 'roc_auc': 0.9664335220720157, 'pr_auc': 0.9648100619430492}\n",
      "Winning feature set: union\n"
     ]
    }
   ],
   "source": [
    "svm_df, svm_best, svm_test, yte_pred_svm, yte_score_svm, svm_feat = run_svm_grids(\n",
    "    {\"word\": (Xw_tr, Xw_va, Xw_te),\n",
    "     \"char\": (Xc_tr, Xc_va, Xc_te),\n",
    "     \"union\": (Xu_tr, Xu_va, Xu_te)},\n",
    "    ytr, yva, yte, C_grid=C_GRID\n",
    ")\n",
    "\n",
    "display(svm_df.sort_values([\"features\",\"f1_macro\"], ascending=[True, False]).groupby(\"features\").head(5))\n",
    "print(\"Best SVM (val):\", svm_best)\n",
    "print(\"Best SVM (test):\", svm_test)\n",
    "print(\"Winning feature set:\", svm_feat)\n"
   ]
  },
  {
   "cell_type": "markdown",
   "id": "2ddce64c",
   "metadata": {},
   "source": [
    "**Findings**\n",
    "- **Validation winner:** **Union** (word+char) at `C = 0.5` with **F1_macro = 0.9110**, **ROC-AUC = 0.9692**, **PR-AUC = 0.9681**.\n",
    "- **Test performance (best SVM):** **F1_macro = 0.9012**, **Accuracy = 0.9012**, **ROC-AUC = 0.9664**, **PR-AUC = 0.9648**.\n",
    "- **Per-feature trend:**  \n",
    "  - *Word* alone trails LR slightly on val (≈0.906 F1).  \n",
    "  - *Char* alone ≈0.903 F1 — helpful but weaker by itself.  \n",
    "  - *Union* consistently tops val performance, confirming complementary signals.\n",
    "\n",
    "**Takeaway:** SVM gains on val from the union space but **converges to LR on test** (within ~0.1% F1), indicating both models generalize similarly.\n"
   ]
  },
  {
   "cell_type": "markdown",
   "id": "cd481453",
   "metadata": {},
   "source": [
    "## 8) Best SVM — Test-set plots (Confusion Matrix, PR, ROC)\n",
    "\n",
    "Plot curves for the **feature set** that won on validation Macro-F1.\n",
    "\n",
    "Confirms the selected SVM generalizes and provides a visual comparison against LR.\n"
   ]
  },
  {
   "cell_type": "code",
   "execution_count": 9,
   "id": "a08187b1",
   "metadata": {},
   "outputs": [
    {
     "data": {
      "image/png": "[encoded data removed]",
      "text/plain": [
       "<Figure size 420x360 with 1 Axes>"
      ]
     },
     "metadata": {},
     "output_type": "display_data"
    },
    {
     "data": {
      "image/png": "[encoded data removed]",
      "text/plain": [
       "<Figure size 520x360 with 1 Axes>"
      ]
     },
     "metadata": {},
     "output_type": "display_data"
    },
    {
     "data": {
      "image/png": "[encoded data removed]",
      "text/plain": [
       "<Figure size 520x360 with 1 Axes>"
      ]
     },
     "metadata": {},
     "output_type": "display_data"
    }
   ],
   "source": [
    "plot_confmat(yte, yte_pred_svm, f\"SVM ({svm_feat}) — Confusion Matrix\", \"ml_svm_cm\")\n",
    "plot_pr(yte, yte_score_svm, f\"SVM ({svm_feat}) — PR\", \"ml_svm_pr\")\n",
    "plot_roc(yte, yte_score_svm, f\"SVM ({svm_feat}) — ROC\", \"ml_svm_roc\")\n"
   ]
  },
  {
   "cell_type": "markdown",
   "id": "9a2cebd2",
   "metadata": {},
   "source": [
    "**Interpretation**\n",
    "- **Confusion Matrix:** TN=2215, FP=255, FN=235, TP=2254:nearly symmetric error profile; tiny precision-recall trade-off vs LR.\n",
    "- **PR (AP=0.965) & ROC (AUC=0.966):** Indistinguishable from LR at macro level; calibration enables meaningful curves.\n"
   ]
  },
  {
   "cell_type": "markdown",
   "id": "d639c8ac",
   "metadata": {},
   "source": [
    "## 9) Compare winners (LR vs SVM) & write summary\n",
    "\n",
    "We assemble a compact comparison of test metrics and serialize a JSON summary (`ml_winners.json`) used later in the results notebook.\n"
   ]
  },
  {
   "cell_type": "code",
   "execution_count": 10,
   "id": "97d6cde5",
   "metadata": {},
   "outputs": [
    {
     "data": {
      "text/html": [
       "<div>\n",
       "<style scoped>\n",
       "    .dataframe tbody tr th:only-of-type {\n",
       "        vertical-align: middle;\n",
       "    }\n",
       "\n",
       "    .dataframe tbody tr th {\n",
       "        vertical-align: top;\n",
       "    }\n",
       "\n",
       "    .dataframe thead th {\n",
       "        text-align: right;\n",
       "    }\n",
       "</style>\n",
       "<table border=\"1\" class=\"dataframe\">\n",
       "  <thead>\n",
       "    <tr style=\"text-align: right;\">\n",
       "      <th></th>\n",
       "      <th>model</th>\n",
       "      <th>test_f1_macro</th>\n",
       "      <th>test_accuracy</th>\n",
       "      <th>test_pr_auc</th>\n",
       "      <th>test_roc_auc</th>\n",
       "    </tr>\n",
       "  </thead>\n",
       "  <tbody>\n",
       "    <tr>\n",
       "      <th>0</th>\n",
       "      <td>LR(word)</td>\n",
       "      <td>0.901980</td>\n",
       "      <td>0.901996</td>\n",
       "      <td>0.964679</td>\n",
       "      <td>0.966116</td>\n",
       "    </tr>\n",
       "    <tr>\n",
       "      <th>1</th>\n",
       "      <td>SVM(union)</td>\n",
       "      <td>0.901184</td>\n",
       "      <td>0.901190</td>\n",
       "      <td>0.964810</td>\n",
       "      <td>0.966434</td>\n",
       "    </tr>\n",
       "  </tbody>\n",
       "</table>\n",
       "</div>"
      ],
      "text/plain": [
       "        model  test_f1_macro  test_accuracy  test_pr_auc  test_roc_auc\n",
       "0    LR(word)       0.901980       0.901996     0.964679      0.966116\n",
       "1  SVM(union)       0.901184       0.901190     0.964810      0.966434"
      ]
     },
     "execution_count": 10,
     "metadata": {},
     "output_type": "execute_result"
    }
   ],
   "source": [
    "summary = {\n",
    "    \"lr\":  {\"val_best\": lr_best,  \"test\": lr_test},\n",
    "    \"svm\": {\"val_best\": svm_best, \"test\": svm_test}\n",
    "}\n",
    "REPORTS_TAB.mkdir(parents=True, exist_ok=True)\n",
    "with open(REPORTS_TAB / \"ml_winners.json\", \"w\") as f:\n",
    "    json.dump(summary, f, indent=2)\n",
    "\n",
    "pd.DataFrame({\n",
    "    \"model\":          [\"LR(word)\", f\"SVM({svm_feat})\"],\n",
    "    \"test_f1_macro\":  [lr_test[\"f1_macro\"], svm_test[\"f1_macro\"]],\n",
    "    \"test_accuracy\":  [lr_test[\"accuracy\"], svm_test[\"accuracy\"]],\n",
    "    \"test_pr_auc\":    [lr_test.get(\"pr_auc\"), svm_test.get(\"pr_auc\")],\n",
    "    \"test_roc_auc\":   [lr_test.get(\"roc_auc\"), svm_test.get(\"roc_auc\")],\n",
    "})\n"
   ]
  },
  {
   "cell_type": "markdown",
   "id": "ffd83591",
   "metadata": {},
   "source": [
    "**Conclusion**\n",
    "- **LR(word)** and **SVM(union)** are effectively tied on test (ΔF1 ≈ 0.0008).  \n",
    "- Given parity on test, **LR(word)** is a sensible *production baseline* (simpler, faster, well-calibrated out of the box).  \n",
    "- We still keep **SVM(union)** artifacted, as it leads val and might win under different thresholds or cost profiles.\n",
    "\n",
    "We will use **LR(word)** as the reference classic model when benchmarking deep learning models.\n"
   ]
  },
  {
   "cell_type": "markdown",
   "id": "a0df0e26",
   "metadata": {},
   "source": [
    "## 10) Acceptance Gate\n",
    "\n",
    "This notebook is **complete** when:\n",
    "\n",
    "- `tfidf_word.joblib` and `tfidf_char.joblib` exist under `data/interim/` (with meta JSONs).\n",
    "- `ml_lr_results.csv` has **≥ 6 rows** and `ml_svm_results.csv` has **≥ 18 rows** (3 feature sets × 6 C).\n",
    "- Best LR and best SVM models are saved to `models/`.\n",
    "- CM/PR/ROC plots for the best LR and best SVM are saved and visible inline.\n"
   ]
  },
  {
   "cell_type": "code",
   "execution_count": 11,
   "id": "217da5f3",
   "metadata": {},
   "outputs": [
    {
     "name": "stdout",
     "output_type": "stream",
     "text": [
      "✅ Acceptance Gate passed.\n"
     ]
    }
   ],
   "source": [
    "assert (REPORTS_TAB / \"ml_lr_results.csv\").exists(), \"Missing ml_lr_results.csv\"\n",
    "assert (REPORTS_TAB / \"ml_svm_results.csv\").exists(), \"Missing ml_svm_results.csv\"\n",
    "\n",
    "_lr_rows = pd.read_csv(REPORTS_TAB / \"ml_lr_results.csv\")\n",
    "_svm_rows = pd.read_csv(REPORTS_TAB / \"ml_svm_results.csv\")\n",
    "assert len(_lr_rows) >= 6, \"Need ≥ 6 LR rows (C grid)\"\n",
    "assert (_svm_rows[\"features\"].nunique() >= 3) and (len(_svm_rows) >= 18), \\\n",
    "       \"Need ≥ 18 SVM rows across 3 features (6 Cs each)\"\n",
    "\n",
    "# Vectorizers persisted\n",
    "assert (DATA_INTERIM / \"tfidf_word.joblib\").exists(), \"Missing tfidf_word.joblib\"\n",
    "assert (DATA_INTERIM / \"tfidf_char.joblib\").exists(), \"Missing tfidf_char.joblib\"\n",
    "\n",
    "# Best models saved\n",
    "assert (MODELS_DIR / \"ml_lr_best.joblib\").exists(), \"Missing ml_lr_best.joblib\"\n",
    "assert any((MODELS_DIR / f\"ml_svm_best_{k}.joblib\").exists() for k in [\"word\",\"char\",\"union\"]), \\\n",
    "       \"Missing ml_svm_best_<feature>.joblib\"\n",
    "\n",
    "print(\"✅ Acceptance Gate passed.\")\n"
   ]
  }
 ],
 "metadata": {
  "language_info": {
   "name": "python"
  }
 },
 "nbformat": 4,
 "nbformat_minor": 5
}
