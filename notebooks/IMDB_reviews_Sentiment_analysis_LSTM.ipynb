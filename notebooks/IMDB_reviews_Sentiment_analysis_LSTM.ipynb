{
  "nbformat": 4,
  "nbformat_minor": 0,
  "metadata": {
    "colab": {
      "provenance": [],
      "gpuType": "T4",
      "authorship_tag": "ABX9TyOkaG8+KfmY36+VK66F2xMg",
      "include_colab_link": true
    },
    "kernelspec": {
      "name": "python3",
      "display_name": "Python 3"
    },
    "language_info": {
      "name": "python"
    },
    "accelerator": "GPU"
  },
  "cells": [
    {
      "cell_type": "markdown",
      "metadata": {
        "id": "view-in-github",
        "colab_type": "text"
      },
      "source": [
        "<a href=\"https://colab.research.google.com/github/Ruran8wa/Sentiment_analysis/blob/main/notebooks/IMDB_reviews_Sentiment_analysis_LSTM.ipynb\" target=\"_parent\"><img src=\"https://colab.research.google.com/assets/colab-badge.svg\" alt=\"Open In Colab\"/></a>"
      ]
    },
    {
      "cell_type": "markdown",
      "source": [
        "**Imports**"
      ],
      "metadata": {
        "id": "_CbSSybYDiXs"
      }
    },
    {
      "cell_type": "code",
      "source": [
        "import json\n",
        "\n",
        "import nltk\n",
        "from nltk.corpus import stopwords\n",
        "import re\n",
        "import pandas as pd\n",
        "from sklearn.model_selection import train_test_split\n",
        "from tensorflow.keras.models import Sequential\n",
        "from tensorflow.keras.layers import Dense, Embedding, LSTM\n",
        "from tensorflow.keras.preprocessing.text import Tokenizer\n",
        "from tensorflow.keras.preprocessing.sequence import pad_sequences"
      ],
      "metadata": {
        "id": "_FHZW0gWDZw3"
      },
      "execution_count": 20,
      "outputs": []
    },
    {
      "cell_type": "markdown",
      "source": [
        "**Loading Data and Splitting them into test and train data**"
      ],
      "metadata": {
        "id": "4V6NXJ9HGOLl"
      }
    },
    {
      "cell_type": "code",
      "source": [
        "data = pd.read_csv('/content/IMDB_Dataset.csv')\n",
        "print(data.shape)\n",
        "print(data.head())\n",
        "print(data.tail())\n",
        "print(data.isnull().sum())\n",
        "print(data[\"sentiment\"].value_counts())"
      ],
      "metadata": {
        "colab": {
          "base_uri": "https://localhost:8080/"
        },
        "id": "iI_ekXjJG-DN",
        "outputId": "d5c879ce-6b1e-492a-f0dd-f7518b764c10"
      },
      "execution_count": 21,
      "outputs": [
        {
          "output_type": "stream",
          "name": "stdout",
          "text": [
            "(50000, 2)\n",
            "                                              review sentiment\n",
            "0  One of the other reviewers has mentioned that ...  positive\n",
            "1  A wonderful little production. <br /><br />The...  positive\n",
            "2  I thought this was a wonderful way to spend ti...  positive\n",
            "3  Basically there's a family where a little boy ...  negative\n",
            "4  Petter Mattei's \"Love in the Time of Money\" is...  positive\n",
            "                                                  review sentiment\n",
            "49995  I thought this movie did a down right good job...  positive\n",
            "49996  Bad plot, bad dialogue, bad acting, idiotic di...  negative\n",
            "49997  I am a Catholic taught in parochial elementary...  negative\n",
            "49998  I'm going to have to disagree with the previou...  negative\n",
            "49999  No one expects the Star Trek movies to be high...  negative\n",
            "review       0\n",
            "sentiment    0\n",
            "dtype: int64\n",
            "sentiment\n",
            "positive    25000\n",
            "negative    25000\n",
            "Name: count, dtype: int64\n"
          ]
        }
      ]
    },
    {
      "cell_type": "code",
      "source": [
        "data.replace({\"sentiment\": {\"positive\": 1, \"negative\": 0}}, inplace=True)\n",
        "print(data[\"sentiment\"].value_counts())"
      ],
      "metadata": {
        "id": "dBd6aGJKJ38a",
        "outputId": "7ec1c17b-3368-40ba-ca0b-ebf938819b89",
        "colab": {
          "base_uri": "https://localhost:8080/"
        }
      },
      "execution_count": 22,
      "outputs": [
        {
          "output_type": "stream",
          "name": "stdout",
          "text": [
            "sentiment\n",
            "1    25000\n",
            "0    25000\n",
            "Name: count, dtype: int64\n"
          ]
        },
        {
          "output_type": "stream",
          "name": "stderr",
          "text": [
            "/tmp/ipython-input-2055439680.py:1: FutureWarning: Downcasting behavior in `replace` is deprecated and will be removed in a future version. To retain the old behavior, explicitly call `result.infer_objects(copy=False)`. To opt-in to the future behavior, set `pd.set_option('future.no_silent_downcasting', True)`\n",
            "  data.replace({\"sentiment\": {\"positive\": 1, \"negative\": 0}}, inplace=True)\n"
          ]
        }
      ]
    },
    {
      "cell_type": "code",
      "source": [
        "train_data, test_data = train_test_split(data, test_size=0.2, random_state=42)\n",
        "print(train_data.shape)\n",
        "print(test_data.shape)"
      ],
      "metadata": {
        "id": "zmRTk2XBKx2T",
        "outputId": "eb11aa8e-925f-40e8-b0b4-593be46b9150",
        "colab": {
          "base_uri": "https://localhost:8080/"
        }
      },
      "execution_count": 23,
      "outputs": [
        {
          "output_type": "stream",
          "name": "stdout",
          "text": [
            "(40000, 2)\n",
            "(10000, 2)\n"
          ]
        }
      ]
    },
    {
      "cell_type": "markdown",
      "source": [
        "**Data Preprocessing**"
      ],
      "metadata": {
        "id": "fDWchA9fLZoC"
      }
    },
    {
      "cell_type": "code",
      "source": [
        "nltk.download('stopwords')\n",
        "stop_words = set(stopwords.words('english'))\n",
        "\n",
        "def remove_stopwords(text):\n",
        "    text = text.lower()\n",
        "    text = re.sub(r'[^a-zA-Z\\s]', '', text)\n",
        "    words = text.split()\n",
        "    filtered_words = [word for word in words if word not in stop_words]\n",
        "    return ' '.join(filtered_words)\n",
        "\n",
        "train_data['review'] = train_data['review'].apply(remove_stopwords)\n",
        "test_data['review'] = test_data['review'].apply(remove_stopwords)\n",
        "\n",
        "print(\"Reviews after removing stopwords:\")\n",
        "print(train_data['review'].head())\n",
        "print(test_data['review'].head())"
      ],
      "metadata": {
        "id": "Yuo501bARfSb",
        "outputId": "340b9435-f0f1-4fc7-f9ae-fe989801b82c",
        "colab": {
          "base_uri": "https://localhost:8080/"
        }
      },
      "execution_count": 24,
      "outputs": [
        {
          "output_type": "stream",
          "name": "stderr",
          "text": [
            "[nltk_data] Downloading package stopwords to /root/nltk_data...\n",
            "[nltk_data]   Package stopwords is already up-to-date!\n"
          ]
        },
        {
          "output_type": "stream",
          "name": "stdout",
          "text": [
            "Reviews after removing stopwords:\n",
            "39087    thats kept asking many fights screaming matche...\n",
            "30893    watch entire movie could watch entire movie st...\n",
            "45278    touching love story reminiscent mood love draw...\n",
            "16398    latterday fulci schlocker totally abysmal conc...\n",
            "13653    first firmly believe norwegian movies continua...\n",
            "Name: review, dtype: object\n",
            "33553    really liked summerslam due look arena curtain...\n",
            "9427     many television shows appeal quite many differ...\n",
            "199      film quickly gets major chase scene ever incre...\n",
            "12447    jane austen would definitely approve onebr br ...\n",
            "39489    expectations somewhat high went see movie thou...\n",
            "Name: review, dtype: object\n"
          ]
        }
      ]
    },
    {
      "cell_type": "code",
      "source": [
        "tokenizer = Tokenizer(num_words=5000)\n",
        "tokenizer.fit_on_texts(train_data['review'])\n",
        "\n",
        "X_train = pad_sequences(tokenizer.texts_to_sequences(train_data['review']), maxlen=200)\n",
        "X_test = pad_sequences(tokenizer.texts_to_sequences(test_data['review']), maxlen=200)\n",
        "\n",
        "print(X_train)\n",
        "print(X_test)"
      ],
      "metadata": {
        "id": "B40kiBq4Li75",
        "outputId": "08fc84b1-5d13-4ca1-9330-dba4ed3078b7",
        "colab": {
          "base_uri": "https://localhost:8080/"
        }
      },
      "execution_count": 25,
      "outputs": [
        {
          "output_type": "stream",
          "name": "stdout",
          "text": [
            "[[   0    0    0 ...  112  231 3646]\n",
            " [   0    0    0 ...  104   21   30]\n",
            " [   0    0    0 ...  201  605   12]\n",
            " ...\n",
            " [   0    0    0 ... 1009 1481  516]\n",
            " [   0    0    0 ... 1138  143   30]\n",
            " [   0    0    0 ...  370   13 1811]]\n",
            "[[   0    0    0 ...  171   94  849]\n",
            " [   0    0    0 ... 1758   11    1]\n",
            " [   0    0    0 ...  829  939   22]\n",
            " ...\n",
            " [   0    0    0 ...  481   92 3183]\n",
            " [   0    0    0 ...  118   69 2089]\n",
            " [   0    0    0 ...   11  224    4]]\n"
          ]
        }
      ]
    },
    {
      "cell_type": "code",
      "source": [
        "Y_train = train_data[\"sentiment\"]\n",
        "Y_test = test_data[\"sentiment\"]\n",
        "\n",
        "print(Y_train)\n",
        "print(Y_test)"
      ],
      "metadata": {
        "id": "LxwqXDoIO2fM",
        "outputId": "57ffa525-7bca-4afe-f396-c16e1ba47b43",
        "colab": {
          "base_uri": "https://localhost:8080/"
        }
      },
      "execution_count": 26,
      "outputs": [
        {
          "output_type": "stream",
          "name": "stdout",
          "text": [
            "39087    0\n",
            "30893    0\n",
            "45278    1\n",
            "16398    0\n",
            "13653    0\n",
            "        ..\n",
            "11284    1\n",
            "44732    1\n",
            "38158    0\n",
            "860      1\n",
            "15795    1\n",
            "Name: sentiment, Length: 40000, dtype: int64\n",
            "33553    1\n",
            "9427     1\n",
            "199      0\n",
            "12447    1\n",
            "39489    0\n",
            "        ..\n",
            "28567    0\n",
            "25079    1\n",
            "18707    1\n",
            "15200    0\n",
            "5857     1\n",
            "Name: sentiment, Length: 10000, dtype: int64\n"
          ]
        }
      ]
    },
    {
      "cell_type": "code",
      "source": [],
      "metadata": {
        "id": "W7fgzv9QO-7o"
      },
      "execution_count": 26,
      "outputs": []
    }
  ]
}